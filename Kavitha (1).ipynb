{
 "cells": [
  {
   "cell_type": "markdown",
   "metadata": {},
   "source": [
    "## 1. Complete the following code to find the area of an equilateral triangle. Output should be as displayed"
   ]
  },
  {
   "cell_type": "code",
   "execution_count": 16,
   "metadata": {},
   "outputs": [
    {
     "name": "stdout",
     "output_type": "stream",
     "text": [
      "Enter the side of the equilateral triangle: 2\n",
      "\n",
      " Area = 1.73\n"
     ]
    }
   ],
   "source": [
    "import math\n",
    "side = float(input(\"Enter the side of the equilateral triangle: \"))\n",
    "area = ((math.sqrt(3))/4)*pow(side,2)\n",
    "print(\"\\n Area = %.2f\" %area)\n"
   ]
  },
  {
   "cell_type": "markdown",
   "metadata": {},
   "source": [
    "## 2. Write a program to count the number of each characters in a string"
   ]
  },
  {
   "cell_type": "code",
   "execution_count": 71,
   "metadata": {},
   "outputs": [
    {
     "name": "stdout",
     "output_type": "stream",
     "text": [
      "{'K': 1, 'a': 3, 'v': 1, 'i': 2, 't': 1, 'h': 1}\n"
     ]
    }
   ],
   "source": [
    "def char_count(str1):\n",
    " dict = {}\n",
    " for n in str1:\n",
    "     keys = dict.keys()\n",
    "     if n in keys:\n",
    "            dict[n] += 1\n",
    "     else:\n",
    "            dict[n] = 1\n",
    " return dict\n",
    "print(char_count('Kaviithaa'))"
   ]
  },
  {
   "cell_type": "markdown",
   "metadata": {},
   "source": [
    "## 3. Write a program to find the area and perimeter of a rectangle using functions"
   ]
  },
  {
   "cell_type": "code",
   "execution_count": 24,
   "metadata": {},
   "outputs": [
    {
     "name": "stdout",
     "output_type": "stream",
     "text": [
      "\n",
      " Area = 8.00\n",
      "\n",
      " Perimeter = 12.00\n"
     ]
    }
   ],
   "source": [
    "def area(length,breadth):\n",
    "    return length*breadth\n",
    "def perimeter(length,breadth):\n",
    "    return 2*(length+breadth)\n",
    "print(\"\\n Area = %.2f\" % area(4,2))\n",
    "print( \"\\n Perimeter = %.2f\" %perimeter(4,2))"
   ]
  },
  {
   "cell_type": "markdown",
   "metadata": {},
   "source": [
    "## 4. Write a program to print the fibonacci series till a specified number"
   ]
  },
  {
   "cell_type": "code",
   "execution_count": 59,
   "metadata": {},
   "outputs": [
    {
     "name": "stdout",
     "output_type": "stream",
     "text": [
      "0\n",
      "1\n",
      "1\n",
      "2\n",
      "3\n",
      "5\n",
      "8\n",
      "13\n",
      "21\n",
      "34\n",
      "55\n",
      "89\n",
      "144\n"
     ]
    }
   ],
   "source": [
    "def fib(n):\n",
    "    a=0\n",
    "    b=1\n",
    "    if n==1:\n",
    "        print(a)\n",
    "    else:\n",
    "        print(a)\n",
    "        print(b)\n",
    "        for i in range(2,n):\n",
    "            c=a+b\n",
    "            a=b\n",
    "            b=c\n",
    "            print(c)\n",
    "fib(13)\n"
   ]
  },
  {
   "cell_type": "markdown",
   "metadata": {},
   "source": [
    "## 5. Complete the following code to find the minimum of 3 number using conditional statements. Output should be as displayed"
   ]
  },
  {
   "cell_type": "code",
   "execution_count": 47,
   "metadata": {},
   "outputs": [
    {
     "name": "stdout",
     "output_type": "stream",
     "text": [
      "Enter three numbers followed by  : 23 8 1\n",
      "First number : 23\n",
      "Second number : 8\n",
      "Third number : 1\n",
      "1  is smallest\n"
     ]
    }
   ],
   "source": [
    "a,b,c = input(\"Enter three numbers followed by  : \").split()\n",
    "\n",
    "print(\"First number :\",a)\n",
    "print(\"Second number :\",b)\n",
    "print(\"Third number :\",c)\n",
    "if a==b==c:\n",
    "    print(\"Entered numbers are equal!!!\")\n",
    "elif a<b:\n",
    "    if a<c:\n",
    "       print(a,\" is smallest\")\n",
    "    else:\n",
    "       print(c,\" is smallest\")\n",
    "else:\n",
    "    if b<c:\n",
    "       print(b,\" is smallest\")\n",
    "    else:\n",
    "       print(c,\"is smallest\")\n"
   ]
  },
  {
   "cell_type": "markdown",
   "metadata": {},
   "source": [
    "## 6. Write a program to print star pyramind. The number of rows should be taken as input from the user"
   ]
  },
  {
   "cell_type": "code",
   "execution_count": 46,
   "metadata": {},
   "outputs": [
    {
     "name": "stdout",
     "output_type": "stream",
     "text": [
      "enter the number:6\n",
      "*\n",
      "**\n",
      "***\n",
      "****\n",
      "*****\n",
      "******\n"
     ]
    }
   ],
   "source": [
    "num = int(input(\"enter the number:\"))\n",
    "for i in range(0,num):\n",
    "    for j in range(0,i+1):\n",
    "        print(\"*\",end=\"\")\n",
    "    print(\"\\r\")    "
   ]
  },
  {
   "cell_type": "markdown",
   "metadata": {},
   "source": [
    "## 7. Complete the following code to convert hour into seconds. Output should be as displayed"
   ]
  },
  {
   "cell_type": "code",
   "execution_count": 25,
   "metadata": {},
   "outputs": [
    {
     "name": "stdout",
     "output_type": "stream",
     "text": [
      "enter the time in hours: 8\n",
      "8  Hour is equal to 28800  Seconds\n"
     ]
    }
   ],
   "source": [
    "def to_seconds(t):\n",
    "    t*=3600\n",
    "    return t\n",
    "time_in_hours = int(input(\"enter the time in hours: \"))\n",
    "print(time_in_hours ,\" Hour is equal to\" ,to_seconds(time_in_hours) ,\" Seconds\")"
   ]
  },
  {
   "cell_type": "markdown",
   "metadata": {},
   "source": [
    "## 8. Write a program to print multiplication table as below"
   ]
  },
  {
   "cell_type": "code",
   "execution_count": 43,
   "metadata": {},
   "outputs": [
    {
     "name": "stdout",
     "output_type": "stream",
     "text": [
      "enter the number to find the table:67\n",
      "67 X 1 = 67\n",
      "67 X 2 = 134\n",
      "67 X 3 = 201\n",
      "67 X 4 = 268\n",
      "67 X 5 = 335\n",
      "67 X 6 = 402\n",
      "67 X 7 = 469\n",
      "67 X 8 = 536\n",
      "67 X 9 = 603\n",
      "67 X 10 = 670\n"
     ]
    }
   ],
   "source": [
    "num = int(input(\"enter the number to find the table:\"))\n",
    "for i in range(1,11):\n",
    "  print(num,\"X\",i,\"=\",num * i)"
   ]
  },
  {
   "cell_type": "markdown",
   "metadata": {},
   "source": [
    "## 9. Write a program to take your 5 favorite food as list and print each as 'I like Biriyani'"
   ]
  },
  {
   "cell_type": "code",
   "execution_count": 45,
   "metadata": {},
   "outputs": [
    {
     "name": "stdout",
     "output_type": "stream",
     "text": [
      "dosa\n",
      "idily\n",
      "vada\n",
      "puttu\n",
      "chapathi\n",
      "I like dosa\n",
      "I like idily\n",
      "I like vada\n",
      "I like puttu\n",
      "I like chapathi\n"
     ]
    }
   ],
   "source": [
    "favourite_food=[]\n",
    "for i in range(5):\n",
    "    fav_food = input()\n",
    "    favourite_food.append(fav_food)\n",
    "for item in favourite_food:\n",
    "    print(\"I like\",item)"
   ]
  },
  {
   "cell_type": "code",
   "execution_count": null,
   "metadata": {},
   "outputs": [],
   "source": []
  },
  {
   "cell_type": "code",
   "execution_count": null,
   "metadata": {},
   "outputs": [],
   "source": []
  }
 ],
 "metadata": {
  "kernelspec": {
   "display_name": "Python 3",
   "language": "python",
   "name": "python3"
  },
  "language_info": {
   "codemirror_mode": {
    "name": "ipython",
    "version": 3
   },
   "file_extension": ".py",
   "mimetype": "text/x-python",
   "name": "python",
   "nbconvert_exporter": "python",
   "pygments_lexer": "ipython3",
   "version": "3.8.8"
  }
 },
 "nbformat": 4,
 "nbformat_minor": 4
}
